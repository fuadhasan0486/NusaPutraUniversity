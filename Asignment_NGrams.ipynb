{
  "nbformat": 4,
  "nbformat_minor": 0,
  "metadata": {
    "colab": {
      "name": "Asignment_NGrams.ipynb",
      "provenance": [],
      "collapsed_sections": [],
      "mount_file_id": "1It-BuFecwkjR2U2YT6R13_q9KxplWkBH",
      "authorship_tag": "ABX9TyMI3IQOyUlBQ99bOUDoea07",
      "include_colab_link": true
    },
    "kernelspec": {
      "name": "python3",
      "display_name": "Python 3"
    },
    "language_info": {
      "name": "python"
    }
  },
  "cells": [
    {
      "cell_type": "markdown",
      "metadata": {
        "id": "view-in-github",
        "colab_type": "text"
      },
      "source": [
        "<a href=\"https://colab.research.google.com/github/fuadhasan0486/NusaPutraUniversity/blob/main/Asignment_NGrams.ipynb\" target=\"_parent\"><img src=\"https://colab.research.google.com/assets/colab-badge.svg\" alt=\"Open In Colab\"/></a>"
      ]
    },
    {
      "cell_type": "code",
      "execution_count": 2,
      "metadata": {
        "id": "cEBwFcM-X0mb"
      },
      "outputs": [],
      "source": [
        "import numpy as np\n",
        "import pandas as pd\n",
        "import matplotlib.pyplot as plt\n",
        "plt.style.use(style='seaborn')\n",
        "%matplotlib inline"
      ]
    },
    {
      "cell_type": "code",
      "source": [
        "from google.colab import drive\n",
        "drive.mount('/content/drive')"
      ],
      "metadata": {
        "colab": {
          "base_uri": "https://localhost:8080/"
        },
        "id": "RRik8bcrZAGc",
        "outputId": "3774c83f-007c-421e-8a83-0169d3e42897"
      },
      "execution_count": 3,
      "outputs": [
        {
          "output_type": "stream",
          "name": "stdout",
          "text": [
            "Drive already mounted at /content/drive; to attempt to forcibly remount, call drive.mount(\"/content/drive\", force_remount=True).\n"
          ]
        }
      ]
    },
    {
      "cell_type": "code",
      "source": [
        "file=open('/content/drive/MyDrive/Colab Notebooks/UNP/SherlockHolmes.txt','r')\n"
      ],
      "metadata": {
        "id": "GPVUDAC2eds7"
      },
      "execution_count": 4,
      "outputs": []
    },
    {
      "cell_type": "code",
      "source": [
        "isi=file.read()"
      ],
      "metadata": {
        "id": "fAqIf_j9epiV"
      },
      "execution_count": 5,
      "outputs": []
    },
    {
      "cell_type": "code",
      "source": [
        "print(isi)\n"
      ],
      "metadata": {
        "colab": {
          "base_uri": "https://localhost:8080/"
        },
        "id": "M0Biff34lpbJ",
        "outputId": "a6285baf-ce51-4fa7-8443-3858225f0685"
      },
      "execution_count": 6,
      "outputs": [
        {
          "output_type": "stream",
          "name": "stdout",
          "text": [
            "“A certain selection and discretion must be used in producing a\n",
            "realistic effect,” remarked Holmes. “This is wanting in the police\n",
            "report, where more stress is laid, perhaps, upon the platitudes of the\n",
            "magistrate than upon the details, which to an observer contain the\n",
            "vital essence of the whole matter. Depend upon it there is nothing so\n",
            "unnatural as the commonplace.”\n"
          ]
        }
      ]
    },
    {
      "cell_type": "code",
      "source": [
        "print(isi)"
      ],
      "metadata": {
        "colab": {
          "base_uri": "https://localhost:8080/"
        },
        "id": "PD_krJ1se0DC",
        "outputId": "178d886d-ba1c-4fce-ffdc-95a1a5b1ff1b"
      },
      "execution_count": 7,
      "outputs": [
        {
          "output_type": "stream",
          "name": "stdout",
          "text": [
            "“A certain selection and discretion must be used in producing a\n",
            "realistic effect,” remarked Holmes. “This is wanting in the police\n",
            "report, where more stress is laid, perhaps, upon the platitudes of the\n",
            "magistrate than upon the details, which to an observer contain the\n",
            "vital essence of the whole matter. Depend upon it there is nothing so\n",
            "unnatural as the commonplace.”\n"
          ]
        }
      ]
    },
    {
      "cell_type": "code",
      "source": [
        ""
      ],
      "metadata": {
        "id": "33RdyVare23I"
      },
      "execution_count": 7,
      "outputs": []
    },
    {
      "cell_type": "code",
      "source": [
        ""
      ],
      "metadata": {
        "id": "8RbzPybcfTe6"
      },
      "execution_count": 7,
      "outputs": []
    },
    {
      "cell_type": "markdown",
      "source": [
        "1. Remove all punctuations and new line char"
      ],
      "metadata": {
        "id": "K0T1F5u5ltCC"
      }
    },
    {
      "cell_type": "code",
      "source": [
        "punctuations = '“”!\"#$%&\\'()*+,-./:;<=>?@[\\\\]^_`{|}~'\n",
        "no_punc = \"\"\n",
        "for char in isi:\n",
        "   if char not in punctuations:\n",
        "     if char=='\\n':\n",
        "       char=' '\n",
        "     no_punc = no_punc + char\n",
        "    \n",
        "print(\"Punctuation Free String: \",no_punc)"
      ],
      "metadata": {
        "colab": {
          "base_uri": "https://localhost:8080/"
        },
        "id": "r9c5A2N0feUc",
        "outputId": "31490554-6438-4948-eb4c-817d116bb6ec"
      },
      "execution_count": 8,
      "outputs": [
        {
          "output_type": "stream",
          "name": "stdout",
          "text": [
            "Punctuation Free String:  A certain selection and discretion must be used in producing a realistic effect remarked Holmes This is wanting in the police report where more stress is laid perhaps upon the platitudes of the magistrate than upon the details which to an observer contain the vital essence of the whole matter Depend upon it there is nothing so unnatural as the commonplace\n"
          ]
        }
      ]
    },
    {
      "cell_type": "markdown",
      "source": [
        "2. Convert all text to lowercase"
      ],
      "metadata": {
        "id": "4Ib2o_sCmgqT"
      }
    },
    {
      "cell_type": "code",
      "source": [
        "lowercase = no_punc.lower()\n",
        "print(lowercase)"
      ],
      "metadata": {
        "colab": {
          "base_uri": "https://localhost:8080/"
        },
        "id": "UlJGuTZclykT",
        "outputId": "c551fec1-461b-424f-a1f6-847ddad0c9ad"
      },
      "execution_count": 9,
      "outputs": [
        {
          "output_type": "stream",
          "name": "stdout",
          "text": [
            "a certain selection and discretion must be used in producing a realistic effect remarked holmes this is wanting in the police report where more stress is laid perhaps upon the platitudes of the magistrate than upon the details which to an observer contain the vital essence of the whole matter depend upon it there is nothing so unnatural as the commonplace\n"
          ]
        }
      ]
    },
    {
      "cell_type": "code",
      "source": [
        ""
      ],
      "metadata": {
        "id": "C_DRT0ZZpo6d"
      },
      "execution_count": 9,
      "outputs": []
    },
    {
      "cell_type": "markdown",
      "source": [
        "3. Explanation of the steps to build n-grams\n",
        "Make N-gram Make N-gram using nltk module in function corpus\n",
        "Step 1: Import the required modules\n",
        "Step 2: Create a function to create N-grams from a text\n",
        "Step 3: Import the collections module to calculate the frequency of each gram obtained\n",
        "\n",
        "How to make n-grams: delete all punctuations --> change to lowercase --> replace all word separators using space characters (including line separators) --> import the nltk module and call the corpus and stopwords functions to make it easier to separate words based on the number of words desired (n-grams) --> the final result is a list containing words or groups of words according to the desired number (n-grams)\n",
        "\n"
      ],
      "metadata": {
        "id": "sE3I6Qutx16P"
      }
    },
    {
      "cell_type": "code",
      "source": [
        "import nltk\n",
        "from nltk.corpus import stopwords\n",
        "nltk.download('stopwords')\n",
        "\n",
        "#method to generate n-grams:\n",
        "#params:\n",
        "#text-the text for which we have to generate n-grams\n",
        "#ngram-number of grams to be generated from the text(1,2,3,4 etc., default value=1)\n",
        "def generate_N_grams(text,ngram=2):\n",
        "  words=[word for word in text.split(\" \") if word not in set(stopwords.words('english'))]  \n",
        "  print(\"Sentence after removing stopwords:\",words)\n",
        "  temp=zip(*[words[i:] for i in range(0,ngram)])\n",
        "  ans=[' '.join(ngram) for ngram in temp]\n",
        "  return ans"
      ],
      "metadata": {
        "colab": {
          "base_uri": "https://localhost:8080/"
        },
        "id": "hrYZRBnUloPq",
        "outputId": "e4bb23f9-a35c-40e7-a73d-207134f54ad3"
      },
      "execution_count": 10,
      "outputs": [
        {
          "output_type": "stream",
          "name": "stdout",
          "text": [
            "[nltk_data] Downloading package stopwords to /root/nltk_data...\n",
            "[nltk_data]   Unzipping corpora/stopwords.zip.\n"
          ]
        }
      ]
    },
    {
      "cell_type": "code",
      "source": [
        ""
      ],
      "metadata": {
        "id": "KMBAEiXYJOLB"
      },
      "execution_count": 10,
      "outputs": []
    },
    {
      "cell_type": "markdown",
      "source": [
        "import modul collections untuk memudahkan perhitungan frekuensi/counting"
      ],
      "metadata": {
        "id": "l1knWCJtJkbe"
      }
    },
    {
      "cell_type": "code",
      "source": [
        "import collections"
      ],
      "metadata": {
        "id": "bW318ZJ2unZb"
      },
      "execution_count": 11,
      "outputs": []
    },
    {
      "cell_type": "markdown",
      "source": [
        "4. Unigram and its frequency"
      ],
      "metadata": {
        "id": "NDQ3oJlmJOz_"
      }
    },
    {
      "cell_type": "code",
      "source": [
        "unigram=generate_N_grams(lowercase,1)\n",
        "print(unigram)\n",
        "collections.Counter(unigram)\n",
        "\n"
      ],
      "metadata": {
        "colab": {
          "base_uri": "https://localhost:8080/"
        },
        "id": "hR1UDeEHn9jX",
        "outputId": "4cdfd3c1-873f-4fcf-e520-b3d9f82b1b3e"
      },
      "execution_count": 12,
      "outputs": [
        {
          "output_type": "stream",
          "name": "stdout",
          "text": [
            "Sentence after removing stopwords: ['certain', 'selection', 'discretion', 'must', 'used', 'producing', 'realistic', 'effect', 'remarked', 'holmes', 'wanting', 'police', 'report', 'stress', 'laid', 'perhaps', 'upon', 'platitudes', 'magistrate', 'upon', 'details', 'observer', 'contain', 'vital', 'essence', 'whole', 'matter', 'depend', 'upon', 'nothing', 'unnatural', 'commonplace']\n",
            "['certain', 'selection', 'discretion', 'must', 'used', 'producing', 'realistic', 'effect', 'remarked', 'holmes', 'wanting', 'police', 'report', 'stress', 'laid', 'perhaps', 'upon', 'platitudes', 'magistrate', 'upon', 'details', 'observer', 'contain', 'vital', 'essence', 'whole', 'matter', 'depend', 'upon', 'nothing', 'unnatural', 'commonplace']\n"
          ]
        },
        {
          "output_type": "execute_result",
          "data": {
            "text/plain": [
              "Counter({'certain': 1,\n",
              "         'commonplace': 1,\n",
              "         'contain': 1,\n",
              "         'depend': 1,\n",
              "         'details': 1,\n",
              "         'discretion': 1,\n",
              "         'effect': 1,\n",
              "         'essence': 1,\n",
              "         'holmes': 1,\n",
              "         'laid': 1,\n",
              "         'magistrate': 1,\n",
              "         'matter': 1,\n",
              "         'must': 1,\n",
              "         'nothing': 1,\n",
              "         'observer': 1,\n",
              "         'perhaps': 1,\n",
              "         'platitudes': 1,\n",
              "         'police': 1,\n",
              "         'producing': 1,\n",
              "         'realistic': 1,\n",
              "         'remarked': 1,\n",
              "         'report': 1,\n",
              "         'selection': 1,\n",
              "         'stress': 1,\n",
              "         'unnatural': 1,\n",
              "         'upon': 3,\n",
              "         'used': 1,\n",
              "         'vital': 1,\n",
              "         'wanting': 1,\n",
              "         'whole': 1})"
            ]
          },
          "metadata": {},
          "execution_count": 12
        }
      ]
    },
    {
      "cell_type": "markdown",
      "source": [
        "5. Bigram and its frequency"
      ],
      "metadata": {
        "id": "ipIBQtubKgvD"
      }
    },
    {
      "cell_type": "code",
      "source": [
        "bigram=generate_N_grams(lowercase,2)\n",
        "print(bigram)\n",
        "collections.Counter(bigram)"
      ],
      "metadata": {
        "colab": {
          "base_uri": "https://localhost:8080/"
        },
        "id": "hXsQJn14syY7",
        "outputId": "d6443a79-ee76-4583-d4cc-40a14cb33256"
      },
      "execution_count": 13,
      "outputs": [
        {
          "output_type": "stream",
          "name": "stdout",
          "text": [
            "Sentence after removing stopwords: ['certain', 'selection', 'discretion', 'must', 'used', 'producing', 'realistic', 'effect', 'remarked', 'holmes', 'wanting', 'police', 'report', 'stress', 'laid', 'perhaps', 'upon', 'platitudes', 'magistrate', 'upon', 'details', 'observer', 'contain', 'vital', 'essence', 'whole', 'matter', 'depend', 'upon', 'nothing', 'unnatural', 'commonplace']\n",
            "['certain selection', 'selection discretion', 'discretion must', 'must used', 'used producing', 'producing realistic', 'realistic effect', 'effect remarked', 'remarked holmes', 'holmes wanting', 'wanting police', 'police report', 'report stress', 'stress laid', 'laid perhaps', 'perhaps upon', 'upon platitudes', 'platitudes magistrate', 'magistrate upon', 'upon details', 'details observer', 'observer contain', 'contain vital', 'vital essence', 'essence whole', 'whole matter', 'matter depend', 'depend upon', 'upon nothing', 'nothing unnatural', 'unnatural commonplace']\n"
          ]
        },
        {
          "output_type": "execute_result",
          "data": {
            "text/plain": [
              "Counter({'certain selection': 1,\n",
              "         'contain vital': 1,\n",
              "         'depend upon': 1,\n",
              "         'details observer': 1,\n",
              "         'discretion must': 1,\n",
              "         'effect remarked': 1,\n",
              "         'essence whole': 1,\n",
              "         'holmes wanting': 1,\n",
              "         'laid perhaps': 1,\n",
              "         'magistrate upon': 1,\n",
              "         'matter depend': 1,\n",
              "         'must used': 1,\n",
              "         'nothing unnatural': 1,\n",
              "         'observer contain': 1,\n",
              "         'perhaps upon': 1,\n",
              "         'platitudes magistrate': 1,\n",
              "         'police report': 1,\n",
              "         'producing realistic': 1,\n",
              "         'realistic effect': 1,\n",
              "         'remarked holmes': 1,\n",
              "         'report stress': 1,\n",
              "         'selection discretion': 1,\n",
              "         'stress laid': 1,\n",
              "         'unnatural commonplace': 1,\n",
              "         'upon details': 1,\n",
              "         'upon nothing': 1,\n",
              "         'upon platitudes': 1,\n",
              "         'used producing': 1,\n",
              "         'vital essence': 1,\n",
              "         'wanting police': 1,\n",
              "         'whole matter': 1})"
            ]
          },
          "metadata": {},
          "execution_count": 13
        }
      ]
    },
    {
      "cell_type": "markdown",
      "source": [
        "6. Trigram and its frequency"
      ],
      "metadata": {
        "id": "mtbBJdwMKkE6"
      }
    },
    {
      "cell_type": "code",
      "source": [
        "trigram=generate_N_grams(lowercase,3)\n",
        "print(trigram)\n",
        "collections.Counter(trigram)"
      ],
      "metadata": {
        "colab": {
          "base_uri": "https://localhost:8080/"
        },
        "id": "BGIAqz42tC4r",
        "outputId": "6a954376-dc4d-4849-8470-51f0cff7fe1d"
      },
      "execution_count": 14,
      "outputs": [
        {
          "output_type": "stream",
          "name": "stdout",
          "text": [
            "Sentence after removing stopwords: ['certain', 'selection', 'discretion', 'must', 'used', 'producing', 'realistic', 'effect', 'remarked', 'holmes', 'wanting', 'police', 'report', 'stress', 'laid', 'perhaps', 'upon', 'platitudes', 'magistrate', 'upon', 'details', 'observer', 'contain', 'vital', 'essence', 'whole', 'matter', 'depend', 'upon', 'nothing', 'unnatural', 'commonplace']\n",
            "['certain selection discretion', 'selection discretion must', 'discretion must used', 'must used producing', 'used producing realistic', 'producing realistic effect', 'realistic effect remarked', 'effect remarked holmes', 'remarked holmes wanting', 'holmes wanting police', 'wanting police report', 'police report stress', 'report stress laid', 'stress laid perhaps', 'laid perhaps upon', 'perhaps upon platitudes', 'upon platitudes magistrate', 'platitudes magistrate upon', 'magistrate upon details', 'upon details observer', 'details observer contain', 'observer contain vital', 'contain vital essence', 'vital essence whole', 'essence whole matter', 'whole matter depend', 'matter depend upon', 'depend upon nothing', 'upon nothing unnatural', 'nothing unnatural commonplace']\n"
          ]
        },
        {
          "output_type": "execute_result",
          "data": {
            "text/plain": [
              "Counter({'certain selection discretion': 1,\n",
              "         'contain vital essence': 1,\n",
              "         'depend upon nothing': 1,\n",
              "         'details observer contain': 1,\n",
              "         'discretion must used': 1,\n",
              "         'effect remarked holmes': 1,\n",
              "         'essence whole matter': 1,\n",
              "         'holmes wanting police': 1,\n",
              "         'laid perhaps upon': 1,\n",
              "         'magistrate upon details': 1,\n",
              "         'matter depend upon': 1,\n",
              "         'must used producing': 1,\n",
              "         'nothing unnatural commonplace': 1,\n",
              "         'observer contain vital': 1,\n",
              "         'perhaps upon platitudes': 1,\n",
              "         'platitudes magistrate upon': 1,\n",
              "         'police report stress': 1,\n",
              "         'producing realistic effect': 1,\n",
              "         'realistic effect remarked': 1,\n",
              "         'remarked holmes wanting': 1,\n",
              "         'report stress laid': 1,\n",
              "         'selection discretion must': 1,\n",
              "         'stress laid perhaps': 1,\n",
              "         'upon details observer': 1,\n",
              "         'upon nothing unnatural': 1,\n",
              "         'upon platitudes magistrate': 1,\n",
              "         'used producing realistic': 1,\n",
              "         'vital essence whole': 1,\n",
              "         'wanting police report': 1,\n",
              "         'whole matter depend': 1})"
            ]
          },
          "metadata": {},
          "execution_count": 14
        }
      ]
    }
  ]
}